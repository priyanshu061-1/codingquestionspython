{
  "nbformat": 4,
  "nbformat_minor": 0,
  "metadata": {
    "colab": {
      "provenance": []
    },
    "kernelspec": {
      "name": "python3",
      "display_name": "Python 3"
    },
    "language_info": {
      "name": "python"
    }
  },
  "cells": [
    {
      "cell_type": "code",
      "execution_count": 5,
      "metadata": {
        "id": "TTclPoayv4sl",
        "colab": {
          "base_uri": "https://localhost:8080/"
        },
        "outputId": "f7480c1e-1efb-4004-b02f-3fac3c7b44f6"
      },
      "outputs": [
        {
          "output_type": "stream",
          "name": "stdout",
          "text": [
            "2\n"
          ]
        }
      ],
      "source": [
        "from collections import deque\n",
        "\n",
        "def smallest_subarray_with_sum(arr, target):\n",
        "    queue = deque()\n",
        "    min_length = float('inf')\n",
        "    current_sum = 0\n",
        "\n",
        "    for num in arr:\n",
        "        queue.append(num)\n",
        "        current_sum += num\n",
        "\n",
        "        while current_sum > target:\n",
        "            min_length = min(min_length, len(queue))\n",
        "            current_sum -= queue.popleft()\n",
        "\n",
        "    return min_length if min_length != float('inf') else -1\n",
        "\n",
        "arr=[1,2,4,5,6]\n",
        "target=9\n",
        "\n",
        "print(smallest_subarray_with_sum(arr, target))"
      ]
    },
    {
      "cell_type": "code",
      "source": [
        "_"
      ],
      "metadata": {
        "id": "UTgwrp5DCN4t"
      },
      "execution_count": null,
      "outputs": []
    }
  ]
}