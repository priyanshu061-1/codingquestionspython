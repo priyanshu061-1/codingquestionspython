{
  "nbformat": 4,
  "nbformat_minor": 0,
  "metadata": {
    "colab": {
      "provenance": []
    },
    "kernelspec": {
      "name": "python3",
      "display_name": "Python 3"
    },
    "language_info": {
      "name": "python"
    }
  },
  "cells": [
    {
      "cell_type": "code",
      "execution_count": 2,
      "metadata": {
        "colab": {
          "base_uri": "https://localhost:8080/"
        },
        "id": "EYWELh91Ov7y",
        "outputId": "2f184445-25a1-40f7-c317-82e3f0708ac3"
      },
      "outputs": [
        {
          "output_type": "stream",
          "name": "stdout",
          "text": [
            "1 2 3 4 5 \n",
            "1 2 4 5 \n"
          ]
        }
      ],
      "source": [
        "class Node:\n",
        "    def __init__(self, data):\n",
        "        self.data = data\n",
        "        self.next = None\n",
        "\n",
        "class LinkedList:\n",
        "\n",
        "    def remove_from_last(self, head, n):\n",
        "        # Step 1: Find length of list\n",
        "        temp = head\n",
        "        count = 0\n",
        "        while temp:\n",
        "            count += 1\n",
        "            temp = temp.next\n",
        "\n",
        "     class Node:\n",
        "    def __init__(self, data):\n",
        "        self.data = data\n",
        "        self.next = None\n",
        "\n",
        "def reverse_linked_list(head):\n",
        "    prev = None\n",
        "    current = head\n",
        "\n",
        "    while current:\n",
        "        next_node = current.next  # store next node\n",
        "        current.next = prev       # reverse the link\n",
        "        prev = current            # move prev forward\n",
        "        current = next_node       # move current forward\n",
        "\n",
        "    return prev  # new head of reversed list\n",
        "\n",
        "\n",
        ""
      ]
    }
  ]
}