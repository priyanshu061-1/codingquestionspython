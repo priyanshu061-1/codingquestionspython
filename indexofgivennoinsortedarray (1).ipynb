{
  "nbformat": 4,
  "nbformat_minor": 0,
  "metadata": {
    "colab": {
      "provenance": []
    },
    "kernelspec": {
      "name": "python3",
      "display_name": "Python 3"
    },
    "language_info": {
      "name": "python"
    }
  },
  "cells": [
    {
      "cell_type": "code",
      "execution_count": 1,
      "metadata": {
        "colab": {
          "base_uri": "https://localhost:8080/"
        },
        "id": "PeEQ1sKX_xsr",
        "outputId": "835c360d-0233-4f8b-8278-68c53724627b"
      },
      "outputs": [
        {
          "output_type": "stream",
          "name": "stdout",
          "text": [
            "1 3\n",
            "2 1\n",
            "3 2\n",
            "5 2\n",
            "8 3\n",
            "9 2\n",
            "10 1\n"
          ]
        }
      ],
      "source": [
        "def findFrequencies(arr):\n",
        "    n = len(arr)\n",
        "\n",
        "    i = 0\n",
        "\n",
        "    while i < n:\n",
        "        val = arr[i]\n",
        "        s, e = i, n - 1\n",
        "        endIndex = i\n",
        "\n",
        "        while s <= e:\n",
        "            mid = s + (e - s) // 2\n",
        "            if arr[mid] == val:\n",
        "                endIndex = mid\n",
        "                s = mid + 1\n",
        "            else:\n",
        "                e = mid - 1\n",
        "\n",
        "        cnt = endIndex - i + 1\n",
        "\n",
        "        print(val, cnt)\n",
        "\n",
        "        # Set i to next value index\n",
        "        i = endIndex + 1\n",
        "\n",
        "if __name__ == \"__main__\":\n",
        "    arr = [1, 1, 1, 2, 3, 3, 5, 5, 8, 8, 8, 9, 9, 10]\n",
        "\n",
        "    findFrequencies(arr)"
      ]
    }
  ]
}