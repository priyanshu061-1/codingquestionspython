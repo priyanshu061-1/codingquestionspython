{
  "nbformat": 4,
  "nbformat_minor": 0,
  "metadata": {
    "colab": {
      "provenance": []
    },
    "kernelspec": {
      "name": "python3",
      "display_name": "Python 3"
    },
    "language_info": {
      "name": "python"
    }
  },
  "cells": [
    {
      "cell_type": "code",
      "execution_count": 6,
      "metadata": {
        "colab": {
          "base_uri": "https://localhost:8080/"
        },
        "id": "N79cYkV3ug9H",
        "outputId": "e18a7cc0-5d1c-4a05-f6e0-4a9749443347"
      },
      "outputs": [
        {
          "output_type": "stream",
          "name": "stdout",
          "text": [
            "3\n"
          ]
        }
      ],
      "source": [
        "\n",
        "def calculate(r, n, arrhouse, unit):\n",
        "    if n == 0:\n",
        "        return -1\n",
        "    totalfoodrequired = r * unit\n",
        "    foodtillnow = 0\n",
        "\n",
        "    for i in range(n):\n",
        "        foodtillnow += arrhouse[i]\n",
        "        if foodtillnow >= totalfoodrequired:\n",
        "            return i + 1\n",
        "    return 0\n",
        "\n",
        "r = 8\n",
        "n = 5\n",
        "arrhouse = [3, 6, 7, 9, 3]\n",
        "unit = 2\n",
        "\n",
        "print(calculate(r, n, arrhouse, unit))\n",
        "\n",
        "\n",
        ""
      ]
    }
  ]
}