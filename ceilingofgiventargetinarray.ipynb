{
  "nbformat": 4,
  "nbformat_minor": 0,
  "metadata": {
    "colab": {
      "provenance": []
    },
    "kernelspec": {
      "name": "python3",
      "display_name": "Python 3"
    },
    "language_info": {
      "name": "python"
    }
  },
  "cells": [
    {
      "cell_type": "code",
      "execution_count": 3,
      "metadata": {
        "colab": {
          "base_uri": "https://localhost:8080/"
        },
        "id": "TTclPoayv4sl",
        "outputId": "57e93179-321a-4f64-c41d-96060f32b0aa"
      },
      "outputs": [
        {
          "output_type": "stream",
          "name": "stdout",
          "text": [
            "15\n"
          ]
        }
      ],
      "source": [
        "def find_ceiling(arr, target):\n",
        "    if not arr or target > arr[-1]:\n",
        "        return -1  # No ceiling exists\n",
        "\n",
        "    low, high = 0, len(arr) - 1\n",
        "    result = -1\n",
        "\n",
        "    while low <= high:\n",
        "        mid = (low + high) // 2\n",
        "\n",
        "        if arr[mid] == target:\n",
        "            return arr[mid]  # Exact match is the ceiling\n",
        "        elif arr[mid] < target:\n",
        "            low = mid + 1\n",
        "        else:\n",
        "            result = arr[mid]  # Potential ceiling\n",
        "            high = mid - 1\n",
        "\n",
        "    return result\n",
        "arr=(1,3,8,10,15)\n",
        "target=12\n",
        "print(find_ceiling(arr,target))"
      ]
    }
  ]
}