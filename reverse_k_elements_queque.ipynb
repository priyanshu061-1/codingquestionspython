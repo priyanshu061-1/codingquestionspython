{
  "nbformat": 4,
  "nbformat_minor": 0,
  "metadata": {
    "colab": {
      "provenance": []
    },
    "kernelspec": {
      "name": "python3",
      "display_name": "Python 3"
    },
    "language_info": {
      "name": "python"
    }
  },
  "cells": [
    {
      "cell_type": "code",
      "execution_count": null,
      "metadata": {
        "id": "TTclPoayv4sl",
        "colab": {
          "base_uri": "https://localhost:8080/"
        },
        "outputId": "bf50f313-a3af-4256-ee4c-0b63401a492f"
      },
      "outputs": [
        {
          "output_type": "stream",
          "name": "stdout",
          "text": [
            "2\n",
            "10\n",
            "10\n"
          ]
        }
      ],
      "source": [
        "from collections import deque\n",
        "\n",
        "def reverse_first_k(q, k):\n",
        "    move_k_to_end(q, k)\n",
        "    s = len(q) - k\n",
        "    for _ in range(s):\n",
        "        x = q.popleft()\n",
        "        q.append(x)\n",
        "    return q\n",
        "\n",
        "def move_k_to_end(q, k):\n",
        "    if k == 0:\n",
        "        return\n",
        "    e = q.popleft()\n",
        "    move_k_to_end(q, k - 1)\n",
        "    q.append(e)\n",
        "\n",
        "queue = deque([1, 2, 3, 4, 5])\n",
        "k = 3\n",
        "queue = reverse_first_k(queue, k)\n",
        "\n",
        "while queue:\n",
        "    print(queue.popleft(), end=' ')"
      ]
    },
    {
      "cell_type": "code",
      "source": [
        "_"
      ],
      "metadata": {
        "id": "UTgwrp5DCN4t"
      },
      "execution_count": null,
      "outputs": []
    }
  ]
}