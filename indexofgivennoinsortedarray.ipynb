{
  "nbformat": 4,
  "nbformat_minor": 0,
  "metadata": {
    "colab": {
      "provenance": []
    },
    "kernelspec": {
      "name": "python3",
      "display_name": "Python 3"
    },
    "language_info": {
      "name": "python"
    }
  },
  "cells": [
    {
      "cell_type": "code",
      "execution_count": 2,
      "metadata": {
        "colab": {
          "base_uri": "https://localhost:8080/"
        },
        "id": "PeEQ1sKX_xsr",
        "outputId": "dc69001e-ed13-405f-bef7-8dcdb7f7f0ba"
      },
      "outputs": [
        {
          "output_type": "stream",
          "name": "stdout",
          "text": [
            "2\n"
          ]
        }
      ],
      "source": [
        "def searchInsertK(arr, k):\n",
        "\n",
        "    for i in range(len(arr)):\n",
        "\n",
        "        # If k is found or needs to be inserted\n",
        "        # before arr[i]\n",
        "        if arr[i] >= k:\n",
        "            return i\n",
        "\n",
        "    # If k is greater than all elements,\n",
        "    # insert at the end\n",
        "    return len(arr)\n",
        "\n",
        "\n",
        "\n",
        "arr = [1, 3, 5, 6]\n",
        "k = 5\n",
        "\n",
        "print(searchInsertK(arr, k))"
      ]
    }
  ]
}