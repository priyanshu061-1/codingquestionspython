{
  "nbformat": 4,
  "nbformat_minor": 0,
  "metadata": {
    "colab": {
      "provenance": []
    },
    "kernelspec": {
      "name": "python3",
      "display_name": "Python 3"
    },
    "language_info": {
      "name": "python"
    }
  },
  "cells": [
    {
      "cell_type": "code",
      "execution_count": 14,
      "metadata": {
        "colab": {
          "base_uri": "https://localhost:8080/"
        },
        "id": "WS8VoStdExm-",
        "outputId": "52f6b772-864d-44df-d5ad-6a104edcac5c"
      },
      "outputs": [
        {
          "output_type": "stream",
          "name": "stdout",
          "text": [
            "impossible\n",
            "impossible\n",
            ")\n",
            "impossible\n",
            "impossible\n",
            ")\n",
            ")\n",
            ")\n"
          ]
        }
      ],
      "source": [
        "def complete_sequence(s):\n",
        "  open=0\n",
        "  close=0\n",
        "  for i in range(len(s)):\n",
        "      if(s[i]==\"(\"):\n",
        "        open +=1\n",
        "      else:\n",
        "        close+=1\n",
        "\n",
        "      if(close<open):\n",
        "        print(\"impossible\")\n",
        "        return\n",
        "\n",
        "  print(s,end=\"\")\n",
        "  for i in range(open-close):\n",
        "    print(\")\",end=\"\")\n",
        "  print()\n",
        "  return\n",
        "\n",
        "s=\"(()(()))\"\n",
        "for i in s:\n",
        "  complete_sequence(i)\n"
      ]
    }
  ]
}