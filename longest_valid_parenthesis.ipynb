{
  "nbformat": 4,
  "nbformat_minor": 0,
  "metadata": {
    "colab": {
      "provenance": []
    },
    "kernelspec": {
      "name": "python3",
      "display_name": "Python 3"
    },
    "language_info": {
      "name": "python"
    }
  },
  "cells": [
    {
      "cell_type": "code",
      "execution_count": 1,
      "metadata": {
        "id": "TTclPoayv4sl"
      },
      "outputs": [],
      "source": [
        "class Solution:\n",
        "    def longestValidParentheses(self, s: str) -> int:\n",
        "        stack = [-1]\n",
        "        max_len = 0\n",
        "\n",
        "        for i in range(len(s)):\n",
        "            if s[i] == \"(\":\n",
        "                stack.append(i)\n",
        "            else:\n",
        "                stack.pop()\n",
        "                if len(stack) == 0:\n",
        "                    stack.append(i)\n",
        "                else:\n",
        "                    max_len = max(max_len, i - stack[-1])\n",
        "\n",
        "        return max_len\n"
      ]
    }
  ]
}