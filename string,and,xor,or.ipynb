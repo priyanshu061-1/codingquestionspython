{
  "nbformat": 4,
  "nbformat_minor": 0,
  "metadata": {
    "colab": {
      "provenance": []
    },
    "kernelspec": {
      "name": "python3",
      "display_name": "Python 3"
    },
    "language_info": {
      "name": "python"
    }
  },
  "cells": [
    {
      "cell_type": "code",
      "execution_count": 2,
      "metadata": {
        "colab": {
          "base_uri": "https://localhost:8080/"
        },
        "id": "TTclPoayv4sl",
        "outputId": "5d4ce319-e9ad-4d07-99a1-1a18d1871d9b"
      },
      "outputs": [
        {
          "output_type": "stream",
          "name": "stdout",
          "text": [
            "1A0B1B0\n",
            "1\n"
          ]
        }
      ],
      "source": [
        "def OperationsBinaryString(str):\n",
        "    a=int(str[0])\n",
        "    i=1\n",
        "    while i< len(str):\n",
        "        if str[i]=='A':\n",
        "            a&=int(str[i+1])\n",
        "        elif str[i]=='B':\n",
        "            a|=int(str[i+1])\n",
        "        else:\n",
        "            a^=int(str[i+1])\n",
        "        i+=2\n",
        "    return a\n",
        "str=input()\n",
        "print(OperationsBinaryString(str))"
      ]
    }
  ]
}