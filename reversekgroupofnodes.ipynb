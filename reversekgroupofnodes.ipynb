{
  "nbformat": 4,
  "nbformat_minor": 0,
  "metadata": {
    "colab": {
      "provenance": []
    },
    "kernelspec": {
      "name": "python3",
      "display_name": "Python 3"
    },
    "language_info": {
      "name": "python"
    }
  },
  "cells": [
    {
      "cell_type": "code",
      "execution_count": 4,
      "metadata": {
        "id": "TTclPoayv4sl",
        "colab": {
          "base_uri": "https://localhost:8080/",
          "height": 176
        },
        "outputId": "979d8831-8e98-4457-d494-03d463d3b35a"
      },
      "outputs": [
        {
          "output_type": "error",
          "ename": "TypeError",
          "evalue": "Solution.swapPairs() missing 1 required positional argument: 'head'",
          "traceback": [
            "\u001b[0;31m---------------------------------------------------------------------------\u001b[0m",
            "\u001b[0;31mTypeError\u001b[0m                                 Traceback (most recent call last)",
            "\u001b[0;32m<ipython-input-4-493813572>\u001b[0m in \u001b[0;36m<cell line: 0>\u001b[0;34m()\u001b[0m\n\u001b[1;32m     11\u001b[0m \u001b[0;34m\u001b[0m\u001b[0m\n\u001b[1;32m     12\u001b[0m \u001b[0mhead\u001b[0m\u001b[0;34m=\u001b[0m\u001b[0;34m[\u001b[0m\u001b[0;36m1\u001b[0m\u001b[0;34m,\u001b[0m\u001b[0;36m2\u001b[0m\u001b[0;34m,\u001b[0m\u001b[0;36m3\u001b[0m\u001b[0;34m,\u001b[0m\u001b[0;36m4\u001b[0m\u001b[0;34m]\u001b[0m\u001b[0;34m\u001b[0m\u001b[0;34m\u001b[0m\u001b[0m\n\u001b[0;32m---> 13\u001b[0;31m \u001b[0mSolution\u001b[0m\u001b[0;34m.\u001b[0m\u001b[0mswapPairs\u001b[0m\u001b[0;34m(\u001b[0m\u001b[0mhead\u001b[0m\u001b[0;34m)\u001b[0m\u001b[0;34m\u001b[0m\u001b[0;34m\u001b[0m\u001b[0m\n\u001b[0m",
            "\u001b[0;31mTypeError\u001b[0m: Solution.swapPairs() missing 1 required positional argument: 'head'"
          ]
        }
      ],
      "source": [
        "class Solution:\n",
        "    def reverseKGroup(self, head: Optional[ListNode], k: int) -> Optional[ListNode]:\n",
        "        if not head or k==1:\n",
        "            return head\n",
        "\n",
        "        dummy = ListNode(0,head)\n",
        "        prev = dummy\n",
        "        curr= head\n",
        "        count = 0\n",
        "        while curr:\n",
        "            count+=1\n",
        "            curr = curr.next\n",
        "\n",
        "        while count>=k:\n",
        "            curr = prev.next\n",
        "            next_node = curr.next\n",
        "\n",
        "            for _ in range(1,k):\n",
        "                curr.next = next_node.next\n",
        "                next_node.next = prev.next\n",
        "                prev.next = next_node\n",
        "                next_node = curr.next\n",
        "            prev = curr\n",
        "            count-=k\n",
        "        return dummy.next\n",
        "\n"
      ]
    }
  ]
}