{
  "nbformat": 4,
  "nbformat_minor": 0,
  "metadata": {
    "colab": {
      "provenance": []
    },
    "kernelspec": {
      "name": "python3",
      "display_name": "Python 3"
    },
    "language_info": {
      "name": "python"
    }
  },
  "cells": [
    {
      "cell_type": "code",
      "execution_count": 1,
      "metadata": {
        "id": "TTclPoayv4sl"
      },
      "outputs": [],
      "source": [
        "class Solution:\n",
        "    def isValid(self, s: str) -> bool:\n",
        "        stack = []\n",
        "        mapping = {\")\":\"(\", \"}\":\"{\", \"]\":\"[\"}\n",
        "\n",
        "        for char in s:\n",
        "            if char in mapping.values():\n",
        "                stack.append(char)\n",
        "            elif char in mapping.keys():\n",
        "                if not stack or mapping[char] != stack.pop():\n",
        "                    return False\n",
        "\n",
        "        return not stack\n"
      ]
    }
  ]
}